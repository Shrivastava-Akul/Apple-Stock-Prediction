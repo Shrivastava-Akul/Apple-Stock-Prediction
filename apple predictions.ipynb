{
 "cells": [
  {
   "cell_type": "code",
   "execution_count": 49,
   "id": "efdbf3b2",
   "metadata": {},
   "outputs": [],
   "source": [
    "# Description: This progamme uses an Artificial recurrent neural network called long Short Term Memory (LSTM)  \n",
    "#              to predict the closing stock price of a coorperation (Apple Inc.) using the past 60 days stock price."
   ]
  },
  {
   "cell_type": "code",
   "execution_count": 50,
   "id": "ca187eb5",
   "metadata": {
    "scrolled": true
   },
   "outputs": [],
   "source": [
    "# import the libraries\n",
    "import math # extended math module \n",
    "import numpy as np # a library for adding support for large, multi-dimensional arrays and matrices.\n",
    "import pandas as pd # a library for working with and manipulating tabular style data \n",
    "\n",
    "import pandas_datareader as web  # package allowing to create a pandas DataFrame object by using various data sources from internet\n",
    "# DataFrame is a 2d labeled data structure with columns of diff types.\n",
    "from sklearn.preprocessing import MinMaxScaler # functions and transformer classes to organise raw feature vectors more suitable for \n",
    "# downstream estimators. # MinMaxScaler subtracts the minimum value in the feature than divides by the range.\n",
    "from keras.models import Sequential # keras is a neural network application programming index (API), tightly integrated with TensorFlow used to build machine learning models.\n",
    "# Sequential model API creates deep learning models where an instance of sequential class is created and model layers are created and added to it.\n",
    "# achine learning models that input or output data sequences are known as sequence models\n",
    "from keras.layers import Dense, LSTM # .layers are the basic building blocks of neural networks in Keras. # Dense Layer is the regular deeply connected neural network layer \n",
    "# output dimension depends on each input dimension.\n",
    "import matplotlib.pyplot as plt #  can create a figure, creates a plotting area in a figure, plotes lines in a plotting area.\n",
    "plt.style.use(\"fivethirtyeight\")"
   ]
  },
  {
   "cell_type": "code",
   "execution_count": 51,
   "id": "a0daa91f",
   "metadata": {},
   "outputs": [
    {
     "data": {
      "text/html": [
       "<div>\n",
       "<style scoped>\n",
       "    .dataframe tbody tr th:only-of-type {\n",
       "        vertical-align: middle;\n",
       "    }\n",
       "\n",
       "    .dataframe tbody tr th {\n",
       "        vertical-align: top;\n",
       "    }\n",
       "\n",
       "    .dataframe thead th {\n",
       "        text-align: right;\n",
       "    }\n",
       "</style>\n",
       "<table border=\"1\" class=\"dataframe\">\n",
       "  <thead>\n",
       "    <tr style=\"text-align: right;\">\n",
       "      <th></th>\n",
       "      <th>High</th>\n",
       "      <th>Low</th>\n",
       "      <th>Open</th>\n",
       "      <th>Close</th>\n",
       "      <th>Volume</th>\n",
       "      <th>Adj Close</th>\n",
       "    </tr>\n",
       "    <tr>\n",
       "      <th>Date</th>\n",
       "      <th></th>\n",
       "      <th></th>\n",
       "      <th></th>\n",
       "      <th></th>\n",
       "      <th></th>\n",
       "      <th></th>\n",
       "    </tr>\n",
       "  </thead>\n",
       "  <tbody>\n",
       "    <tr>\n",
       "      <th>2012-01-03</th>\n",
       "      <td>14.732143</td>\n",
       "      <td>14.607143</td>\n",
       "      <td>14.621429</td>\n",
       "      <td>14.686786</td>\n",
       "      <td>302220800.0</td>\n",
       "      <td>12.519283</td>\n",
       "    </tr>\n",
       "    <tr>\n",
       "      <th>2012-01-04</th>\n",
       "      <td>14.810000</td>\n",
       "      <td>14.617143</td>\n",
       "      <td>14.642857</td>\n",
       "      <td>14.765714</td>\n",
       "      <td>260022000.0</td>\n",
       "      <td>12.586557</td>\n",
       "    </tr>\n",
       "    <tr>\n",
       "      <th>2012-01-05</th>\n",
       "      <td>14.948214</td>\n",
       "      <td>14.738214</td>\n",
       "      <td>14.819643</td>\n",
       "      <td>14.929643</td>\n",
       "      <td>271269600.0</td>\n",
       "      <td>12.726294</td>\n",
       "    </tr>\n",
       "    <tr>\n",
       "      <th>2012-01-06</th>\n",
       "      <td>15.098214</td>\n",
       "      <td>14.972143</td>\n",
       "      <td>14.991786</td>\n",
       "      <td>15.085714</td>\n",
       "      <td>318292800.0</td>\n",
       "      <td>12.859336</td>\n",
       "    </tr>\n",
       "    <tr>\n",
       "      <th>2012-01-09</th>\n",
       "      <td>15.276786</td>\n",
       "      <td>15.048214</td>\n",
       "      <td>15.196429</td>\n",
       "      <td>15.061786</td>\n",
       "      <td>394024400.0</td>\n",
       "      <td>12.838932</td>\n",
       "    </tr>\n",
       "    <tr>\n",
       "      <th>...</th>\n",
       "      <td>...</td>\n",
       "      <td>...</td>\n",
       "      <td>...</td>\n",
       "      <td>...</td>\n",
       "      <td>...</td>\n",
       "      <td>...</td>\n",
       "    </tr>\n",
       "    <tr>\n",
       "      <th>2019-12-11</th>\n",
       "      <td>67.775002</td>\n",
       "      <td>67.125000</td>\n",
       "      <td>67.202499</td>\n",
       "      <td>67.692497</td>\n",
       "      <td>78756800.0</td>\n",
       "      <td>66.316826</td>\n",
       "    </tr>\n",
       "    <tr>\n",
       "      <th>2019-12-12</th>\n",
       "      <td>68.139999</td>\n",
       "      <td>66.830002</td>\n",
       "      <td>66.945000</td>\n",
       "      <td>67.864998</td>\n",
       "      <td>137310400.0</td>\n",
       "      <td>66.485802</td>\n",
       "    </tr>\n",
       "    <tr>\n",
       "      <th>2019-12-13</th>\n",
       "      <td>68.824997</td>\n",
       "      <td>67.732498</td>\n",
       "      <td>67.864998</td>\n",
       "      <td>68.787498</td>\n",
       "      <td>133587600.0</td>\n",
       "      <td>67.389565</td>\n",
       "    </tr>\n",
       "    <tr>\n",
       "      <th>2019-12-16</th>\n",
       "      <td>70.197502</td>\n",
       "      <td>69.245003</td>\n",
       "      <td>69.250000</td>\n",
       "      <td>69.964996</td>\n",
       "      <td>128186000.0</td>\n",
       "      <td>68.543137</td>\n",
       "    </tr>\n",
       "    <tr>\n",
       "      <th>2019-12-17</th>\n",
       "      <td>70.442497</td>\n",
       "      <td>69.699997</td>\n",
       "      <td>69.892502</td>\n",
       "      <td>70.102501</td>\n",
       "      <td>114158400.0</td>\n",
       "      <td>68.677849</td>\n",
       "    </tr>\n",
       "  </tbody>\n",
       "</table>\n",
       "<p>2003 rows × 6 columns</p>\n",
       "</div>"
      ],
      "text/plain": [
       "                 High        Low       Open      Close       Volume  Adj Close\n",
       "Date                                                                          \n",
       "2012-01-03  14.732143  14.607143  14.621429  14.686786  302220800.0  12.519283\n",
       "2012-01-04  14.810000  14.617143  14.642857  14.765714  260022000.0  12.586557\n",
       "2012-01-05  14.948214  14.738214  14.819643  14.929643  271269600.0  12.726294\n",
       "2012-01-06  15.098214  14.972143  14.991786  15.085714  318292800.0  12.859336\n",
       "2012-01-09  15.276786  15.048214  15.196429  15.061786  394024400.0  12.838932\n",
       "...               ...        ...        ...        ...          ...        ...\n",
       "2019-12-11  67.775002  67.125000  67.202499  67.692497   78756800.0  66.316826\n",
       "2019-12-12  68.139999  66.830002  66.945000  67.864998  137310400.0  66.485802\n",
       "2019-12-13  68.824997  67.732498  67.864998  68.787498  133587600.0  67.389565\n",
       "2019-12-16  70.197502  69.245003  69.250000  69.964996  128186000.0  68.543137\n",
       "2019-12-17  70.442497  69.699997  69.892502  70.102501  114158400.0  68.677849\n",
       "\n",
       "[2003 rows x 6 columns]"
      ]
     },
     "execution_count": 51,
     "metadata": {},
     "output_type": "execute_result"
    }
   ],
   "source": [
    "# Get the stock quote \n",
    "df = web.DataReader(\"AAPL\", data_source=\"yahoo\", start=\"2012-01-01\", end=\"2019-12-17\")\n",
    "# Show the data\n",
    "df"
   ]
  },
  {
   "cell_type": "code",
   "execution_count": 52,
   "id": "68a70f32",
   "metadata": {},
   "outputs": [
    {
     "data": {
      "image/png": "[encoded data removed]",
      "text/plain": [
       "<Figure size 1600x800 with 1 Axes>"
      ]
     },
     "metadata": {},
     "output_type": "display_data"
    }
   ],
   "source": [
    "#Visualise the closing price history\n",
    "plt.figure(figsize=(16,8))\n",
    "plt.title(\"Close Price History\")\n",
    "plt.plot(df[\"Close\"]) #Close = closing price\n",
    "plt.xlabel(\"Year\", fontsize=18)\n",
    "plt.ylabel(\"Close Price USD ($)\", fontsize=18)\n",
    "plt.show()"
   ]
  },
  {
   "cell_type": "code",
   "execution_count": 53,
   "id": "2f74082a",
   "metadata": {},
   "outputs": [
    {
     "data": {
      "text/plain": [
       "1603"
      ]
     },
     "execution_count": 53,
     "metadata": {},
     "output_type": "execute_result"
    }
   ],
   "source": [
    "#Create a new dataframe with only the \"Close Column\"\n",
    "data = df.filter([\"Close\"])\n",
    "#Convert the dataframe to a numpy array. # a grid of values, all of the same type, and is indexed by a tuple of nonnegative integers\n",
    "dataset = data.values\n",
    "#Get the number of rows to train the model on \n",
    "training_data_len = math.ceil(len(dataset) * .8) # training it with 80% of the data that we have\n",
    "\n",
    "training_data_len\n",
    "\n",
    "# !\n",
    "# !\n",
    "# V that number below is 80% of 2003 since we have 2003 rows"
   ]
  },
  {
   "cell_type": "code",
   "execution_count": 54,
   "id": "d08570e3",
   "metadata": {},
   "outputs": [
    {
     "data": {
      "text/plain": [
       "array([[0.01316509],\n",
       "       [0.01457063],\n",
       "       [0.01748985],\n",
       "       ...,\n",
       "       [0.97658263],\n",
       "       [0.99755134],\n",
       "       [1.        ]])"
      ]
     },
     "execution_count": 54,
     "metadata": {},
     "output_type": "execute_result"
    }
   ],
   "source": [
    "#Scale the data.  transforming your data so that it fits within a specific scale, good practise to do this b4 presenting to a neural network\n",
    "scaler = MinMaxScaler(feature_range=(0,1))\n",
    "scaled_data = scaler.fit_transform(dataset)\n",
    "\n",
    "scaled_data"
   ]
  },
  {
   "cell_type": "code",
   "execution_count": 55,
   "id": "97ddf072",
   "metadata": {},
   "outputs": [
    {
     "name": "stdout",
     "output_type": "stream",
     "text": [
      "[array([0.01316509, 0.01457063, 0.01748985, 0.02026915, 0.01984303,\n",
      "       0.02080338, 0.02036454, 0.01962679, 0.01862191, 0.02173194,\n",
      "       0.02453668, 0.02367172, 0.01893355, 0.02345548, 0.01900352,\n",
      "       0.03569838, 0.03440732, 0.0360927 , 0.03973694, 0.04194384,\n",
      "       0.0417594 , 0.0410789 , 0.04397903, 0.04670744, 0.04979839,\n",
      "       0.05479095, 0.0652785 , 0.06543749, 0.07127594, 0.07563885,\n",
      "       0.06814049, 0.07102789, 0.07097066, 0.07906688, 0.07791571,\n",
      "       0.08004628, 0.08387497, 0.08600558, 0.09214292, 0.09661394,\n",
      "       0.09790501, 0.09835659, 0.09071194, 0.08886753, 0.08914103,\n",
      "       0.09632778, 0.09835024, 0.10269409, 0.11293358, 0.12659476,\n",
      "       0.12403805, 0.1240444 , 0.13392141, 0.13701237, 0.13481179,\n",
      "       0.13280207, 0.13070964, 0.13766105, 0.14243103, 0.14442805])]\n",
      "[0.13949272033425864]\n",
      "\n",
      "[array([0.01316509, 0.01457063, 0.01748985, 0.02026915, 0.01984303,\n",
      "       0.02080338, 0.02036454, 0.01962679, 0.01862191, 0.02173194,\n",
      "       0.02453668, 0.02367172, 0.01893355, 0.02345548, 0.01900352,\n",
      "       0.03569838, 0.03440732, 0.0360927 , 0.03973694, 0.04194384,\n",
      "       0.0417594 , 0.0410789 , 0.04397903, 0.04670744, 0.04979839,\n",
      "       0.05479095, 0.0652785 , 0.06543749, 0.07127594, 0.07563885,\n",
      "       0.06814049, 0.07102789, 0.07097066, 0.07906688, 0.07791571,\n",
      "       0.08004628, 0.08387497, 0.08600558, 0.09214292, 0.09661394,\n",
      "       0.09790501, 0.09835659, 0.09071194, 0.08886753, 0.08914103,\n",
      "       0.09632778, 0.09835024, 0.10269409, 0.11293358, 0.12659476,\n",
      "       0.12403805, 0.1240444 , 0.13392141, 0.13701237, 0.13481179,\n",
      "       0.13280207, 0.13070964, 0.13766105, 0.14243103, 0.14442805]), array([0.01457063, 0.01748985, 0.02026915, 0.01984303, 0.02080338,\n",
      "       0.02036454, 0.01962679, 0.01862191, 0.02173194, 0.02453668,\n",
      "       0.02367172, 0.01893355, 0.02345548, 0.01900352, 0.03569838,\n",
      "       0.03440732, 0.0360927 , 0.03973694, 0.04194384, 0.0417594 ,\n",
      "       0.0410789 , 0.04397903, 0.04670744, 0.04979839, 0.05479095,\n",
      "       0.0652785 , 0.06543749, 0.07127594, 0.07563885, 0.06814049,\n",
      "       0.07102789, 0.07097066, 0.07906688, 0.07791571, 0.08004628,\n",
      "       0.08387497, 0.08600558, 0.09214292, 0.09661394, 0.09790501,\n",
      "       0.09835659, 0.09071194, 0.08886753, 0.08914103, 0.09632778,\n",
      "       0.09835024, 0.10269409, 0.11293358, 0.12659476, 0.12403805,\n",
      "       0.1240444 , 0.13392141, 0.13701237, 0.13481179, 0.13280207,\n",
      "       0.13070964, 0.13766105, 0.14243103, 0.14442805, 0.13949272])]\n",
      "[0.13949272033425864, 0.13293562570222134]\n",
      "\n"
     ]
    }
   ],
   "source": [
    "#create the training data set\n",
    "#Create the Scaled training data set\n",
    "train_data = scaled_data[0:training_data_len, :]  # contains all the values from 0 to training data len. # \":\"\" gets back all of the columns\n",
    "#Split the data into x_train and y_train data sets\n",
    "x_train = [] # independent training variables/training features. Each feature, or column, represents a measurable piece of data that can be used for analysis\n",
    "y_train = [] # dependent variables/target variables. variable whose values are to be modeled and predicted by other variables.\n",
    "\n",
    "for i in range(60, len(train_data)):\n",
    "    x_train.append(train_data[i-60:i, 0]) # column at position 0. # will contain 60 values indexed from pos 0 to 59\n",
    "    y_train.append(train_data[i, 0]) # will contain the 61st value at position 60\n",
    "    if i<= 61:\n",
    "        print(x_train)\n",
    "        print(y_train)\n",
    "        print()"
   ]
  },
  {
   "cell_type": "code",
   "execution_count": 56,
   "id": "79c8ac93",
   "metadata": {},
   "outputs": [],
   "source": [
    "#Converting x_train and y_train to numpy arrays so that we can use them in LSTM models\n",
    "x_train, y_train = np.array(x_train), np.array(y_train)\n"
   ]
  },
  {
   "cell_type": "code",
   "execution_count": 57,
   "id": "05a14be4",
   "metadata": {},
   "outputs": [
    {
     "data": {
      "text/plain": [
       "(1543, 60, 1)"
      ]
     },
     "execution_count": 57,
     "metadata": {},
     "output_type": "execute_result"
    }
   ],
   "source": [
    "#Reshape the data. LSTM model wants 3d array\n",
    "x_train = np.reshape(x_train, (x_train.shape[0], x_train.shape[1], 1))\n",
    "x_train.shape"
   ]
  },
  {
   "cell_type": "code",
   "execution_count": 58,
   "id": "44930afb",
   "metadata": {},
   "outputs": [],
   "source": [
    "#Build the LSTM Model\n",
    "model = Sequential()\n",
    "model.add(LSTM(50, return_sequences=True, input_shape = (x_train.shape[1], 1))) # adding a layer to our model. containing LSTM cells as neurons in some of its layers.\n",
    "model.add(LSTM(50, return_sequences=False))\n",
    "model.add(Dense(25)) #Dense neaural network with 25 neurons\n",
    "model.add(Dense(1))"
   ]
  },
  {
   "cell_type": "code",
   "execution_count": 59,
   "id": "88d1e57f",
   "metadata": {},
   "outputs": [],
   "source": [
    "#Compile the model. Compiling a model is required to finalise the model and make it completely ready to use.\n",
    "model.compile(optimizer=\"adam\", loss=\"mean_squared_error\") # optimiser improves upon the loss function. loss function measures how well the model did on training. "
   ]
  },
  {
   "cell_type": "code",
   "execution_count": null,
   "id": "1e63d970",
   "metadata": {},
   "outputs": [
    {
     "name": "stdout",
     "output_type": "stream",
     "text": [
      "  26/1543 [..............................] - ETA: 44s - loss: 0.0133"
     ]
    }
   ],
   "source": [
    "#Train the model\n",
    "model.fit(x_train, y_train, batch_size=1, epochs=1) # fit means train. # batch size means number of training examples given in a training batch\n",
    "# epochs means the no.of iterations when an entire dataset is passed forward or hyperparameter that defines the number times that the learning algorithm will work through the entire training dataset."
   ]
  },
  {
   "cell_type": "code",
   "execution_count": null,
   "id": "a7834ff8",
   "metadata": {},
   "outputs": [],
   "source": [
    "#Create the testing data set\n",
    "#Create a new array containing scaled values from index 1543 to 2003\n",
    "test_data = scaled_data[training_data_len - 60:, :]\n",
    "#Create the data sets x_test and y_test\n",
    "x_test = []\n",
    "y_test = dataset[training_data_len:, :] # all the values we want our model to predict\n",
    "for i in range(60, len(test_data)):\n",
    "    x_test.append(test_data[i-60:i, 0])"
   ]
  },
  {
   "cell_type": "code",
   "execution_count": null,
   "id": "2695f5eb",
   "metadata": {},
   "outputs": [],
   "source": [
    "#Convert the data to a numpy array\n",
    "x_test = np.array(x_test)"
   ]
  },
  {
   "cell_type": "code",
   "execution_count": null,
   "id": "8291c5b4",
   "metadata": {},
   "outputs": [],
   "source": [
    "#Reshape the data\n",
    "x_test = np.reshape(x_test, (x_test.shape[0], x_test.shape[1], 1))"
   ]
  },
  {
   "cell_type": "code",
   "execution_count": null,
   "id": "43da6c5b",
   "metadata": {},
   "outputs": [],
   "source": [
    "#Get the models predicted price values (x_test)\n",
    "predictions = model.predict(x_test)\n",
    "predictions = scaler.inverse_transform(predictions) # scaler rmbr that i passed 2d input with 2 columns, and is like ok the rest cnfrm the same.\n",
    "# we want predictions to contain the same values as our y_test data set\n",
    "\n",
    "#predictions = predictions.loc[row_indexer,col_indexer]"
   ]
  },
  {
   "cell_type": "code",
   "execution_count": null,
   "id": "3f1659b1",
   "metadata": {},
   "outputs": [],
   "source": [
    "#Get the root mean squared error (RMSE). a measure of how accurate the model predicts the response and the standard deviation of the residuals.\n",
    "# lower values of RMSE indicate a better fit\n",
    "rmse = np.sqrt( np.mean( predictions - y_test)**2) # emath standard deviation formula\n",
    "rmse"
   ]
  },
  {
   "cell_type": "code",
   "execution_count": null,
   "id": "8d5ad9c4",
   "metadata": {},
   "outputs": [],
   "source": [
    "#Plot the data\n",
    "train = data[:training_data_len] # contains values from index 0 all the way to the end\n",
    "valid = data[training_data_len:] # index training data len to the end\n",
    "valid[\"predictions\"] = predictions\n",
    "\n",
    "#Visualise the data\n",
    "plt.figure(figsize=(16,8))\n",
    "plt.title(\"Model\")\n",
    "plt.xlabel(\"Year\", fontsize=18)\n",
    "plt.ylabel(\"Close Price USD ($)\", fontsize=18)\n",
    "plt.plot(train[\"Close\"])\n",
    "plt.plot(valid[[\"Close\", \"predictions\"]]) # plotting both actual close price and predictions price\n",
    "plt.legend([\"Train\", \"Val\", \"Predictions\"], loc=\"lower right\") # loc is location. so location of the legend\n",
    "plt.show()\n",
    "\n",
    "#allows the return of specified rows and/or columns from that DataFrame. .loc[row_indexer,col_indexer]"
   ]
  },
  {
   "cell_type": "code",
   "execution_count": null,
   "id": "7cd045e7",
   "metadata": {},
   "outputs": [],
   "source": [
    "#Show the valid and predicted prices\n",
    "valid # since both Close and predictions is inside"
   ]
  },
  {
   "cell_type": "code",
   "execution_count": null,
   "id": "a6eeebe8",
   "metadata": {},
   "outputs": [],
   "source": [
    "#Get the quote\n",
    "apple_quote = web.DataReader(\"AAPL\", data_source=\"yahoo\", start=\"2012-01-01\", end=\"2019-12-17\")\n",
    "\n",
    "#Create a new dataframe\n",
    "new_df = apple_quote.filter([\"Close\"])\n",
    "\n",
    "#Get the last 60 day closing price value and (convert the dataframe to an array, using values)\n",
    "last_60_days = new_df[-60:].values\n",
    "\n",
    "#Scale the data to be values btw 0 and 1\n",
    "last_60_days_scaled = scaler.transform(last_60_days)\n",
    "\n",
    "#Create an empty list\n",
    "X_test = []\n",
    "\n",
    "#Append the past 60 days into empty list X_test\n",
    "X_test.append(last_60_days_scaled)\n",
    "\n",
    "#Convert X_test into np array\n",
    "X_test = np.array(X_test)\n",
    "\n",
    "#Reshape the data \n",
    "X_test = np.reshape(X_test, (X_test.shape[0], X_test.shape[1], 1))  #no.of samples = X_test.shape[0]. no.of time steps = X_test.shape[1]\n",
    "\n",
    "#Get the predicted scale price\n",
    "pred_price = model.predict(X_test)\n",
    "\n",
    "#Undo the scaling\n",
    "pred_price = scaler.inverse_transform(pred_price)\n",
    "print(pred_price) # predicted price of apple stock on 18 dec 2019"
   ]
  },
  {
   "cell_type": "code",
   "execution_count": null,
   "id": "f0957e25",
   "metadata": {},
   "outputs": [],
   "source": [
    "#Get the quote\n",
    "apple_quote2 = web.DataReader(\"AAPL\", data_source=\"yahoo\", start=\"2019-12-18\", end=\"2019-12-18\")\n",
    "print(apple_quote2[\"Close\"])"
   ]
  },
  {
   "cell_type": "code",
   "execution_count": null,
   "id": "7247e691",
   "metadata": {},
   "outputs": [],
   "source": []
  },
  {
   "cell_type": "code",
   "execution_count": null,
   "id": "17de78a6",
   "metadata": {},
   "outputs": [],
   "source": []
  }
 ],
 "metadata": {
  "kernelspec": {
   "display_name": "Python 3 (ipykernel)",
   "language": "python",
   "name": "python3"
  },
  "language_info": {
   "codemirror_mode": {
    "name": "ipython",
    "version": 3
   },
   "file_extension": ".py",
   "mimetype": "text/x-python",
   "name": "python",
   "nbconvert_exporter": "python",
   "pygments_lexer": "ipython3",
   "version": "3.9.7"
  }
 },
 "nbformat": 4,
 "nbformat_minor": 5
}
